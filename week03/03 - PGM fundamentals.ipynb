{
 "cells": [
  {
   "cell_type": "markdown",
   "metadata": {
    "id": "d1ODUUTbrYkT"
   },
   "source": [
    "# Part 1 - The most common continuous model - the Gaussian "
   ]
  },
  {
   "cell_type": "markdown",
   "metadata": {
    "id": "jU01eRHerYkb"
   },
   "source": [
    "Welcome back! Today, we will now focus on how to incorporate continuous variables in your graphical model, and on how to estimate the parameters (e.g. to generate predictions later)"
   ]
  },
  {
   "cell_type": "markdown",
   "metadata": {
    "id": "NkPJ1mO7rYkd"
   },
   "source": [
    "As usual, we'll start with the imports. "
   ]
  },
  {
   "cell_type": "code",
   "execution_count": 1,
   "metadata": {
    "id": "rbH9RrqmrYkh"
   },
   "outputs": [],
   "source": [
    "import matplotlib.pyplot as plt\n",
    "import numpy as np\n",
    "from math import log\n",
    "%matplotlib inline"
   ]
  },
  {
   "cell_type": "markdown",
   "metadata": {
    "id": "DNFU_kI2rYkj"
   },
   "source": [
    "One thing we will do a lot in this course, is create some \"toy data\". The idea is to have datasets that we know so well, that we even know the true parameters. It is important for you to understand how well your PGM is able to learn them!\n",
    "\n",
    "...of course, in the real world, you don't know the true parameters. That's what makes it hard and interesting!\n",
    "\n"
   ]
  },
  {
   "cell_type": "code",
   "execution_count": 28,
   "metadata": {
    "id": "h5jtPL4FrYkm"
   },
   "outputs": [],
   "source": [
    "mu_true=7         #True parameters. Feel free to mess around with them... \n",
    "sigma_true=100\n",
    "X=np.random.normal(mu_true,sigma_true,100)   #generate 1000 samples from this gaussian "
   ]
  },
  {
   "cell_type": "markdown",
   "metadata": {
    "id": "d_gGSEKRrYkn"
   },
   "source": [
    "It is always useful to plot the distribution, whenever it's possible..."
   ]
  },
  {
   "cell_type": "code",
   "execution_count": 29,
   "metadata": {
    "id": "r8gEQ0SXrYko",
    "outputId": "98a81541-2923-4fb0-cc56-a3006cee45f2"
   },
   "outputs": [
    {
     "data": {
      "image/png": "[encoded data removed]",
      "text/plain": [
       "<Figure size 640x480 with 1 Axes>"
      ]
     },
     "metadata": {},
     "output_type": "display_data"
    }
   ],
   "source": [
    "plt.hist(X, bins=50);"
   ]
  },
  {
   "cell_type": "markdown",
   "metadata": {
    "id": "F-q3NvYMrYkr"
   },
   "source": [
    "## 1.1 Maximum Log Likelihood\n",
    "\n",
    "So, we're ready to start..."
   ]
  },
  {
   "cell_type": "markdown",
   "metadata": {
    "id": "BME4O83ZrYkt"
   },
   "source": [
    "In the last lecture, you played with the log likelihood function:"
   ]
  },
  {
   "cell_type": "markdown",
   "metadata": {
    "id": "Nqv4usRwrYky"
   },
   "source": [
    "$ln\\text{ }L(\\mu, \\sigma^2)=-\\frac{n}{2}ln(2\\pi)-\\frac{n}{2}ln(\\sigma^2)-\\frac{1}{2\\sigma^2}\\sum_i^N (x_i-\\mu)^2$"
   ]
  },
  {
   "cell_type": "markdown",
   "metadata": {
    "id": "Tcok6s_yrYk0"
   },
   "source": [
    "We still assume that the standard deviation, $\\sigma$ is given. The  program below finds the (approximate) maximum log likelihood estimate for the mean ($\\mu$)"
   ]
  },
  {
   "cell_type": "code",
   "execution_count": 30,
   "metadata": {
    "id": "BxjQo38JrYk1"
   },
   "outputs": [],
   "source": [
    "def Gaussian_loglikelihood(X, mu, sigma):\n",
    "    n=len(X)\n",
    "    return -n/2*log(2*np.pi)-n/2*log(sigma**2)-1/(2*sigma**2)*sum([(x-mu)**2 for x in X])\n",
    "\n",
    "def MLE(X, sigma):\n",
    "    l=[]\n",
    "    maxll=-9999999\n",
    "    bestmu=-9999999\n",
    "    mus=np.arange(-100, 100, 0.01)\n",
    "    for mu in mus:\n",
    "        ll=Gaussian_loglikelihood(X, mu, sigma)\n",
    "        l.append(ll)\n",
    "        if ll>maxll:\n",
    "            bestmu=mu\n",
    "            maxll=ll\n",
    "    return bestmu, mus, l\n",
    "        "
   ]
  },
  {
   "cell_type": "markdown",
   "metadata": {
    "id": "BLng7TpZrYk2"
   },
   "source": [
    "Please test your program (e.g. choose $\\sigma=5$)"
   ]
  },
  {
   "cell_type": "code",
   "execution_count": 31,
   "metadata": {
    "id": "7N6mENdWrYk4"
   },
   "outputs": [
    {
     "name": "stdout",
     "output_type": "stream",
     "text": [
      "20.23000000006151\n"
     ]
    }
   ],
   "source": [
    "print(MLE(X, 5)[0])"
   ]
  },
  {
   "cell_type": "markdown",
   "metadata": {
    "id": "JcjQbfyxrYk5"
   },
   "source": [
    "## 1.2. Bayesian model"
   ]
  },
  {
   "attachments": {},
   "cell_type": "markdown",
   "metadata": {
    "id": "bTMrTnkBrYk6"
   },
   "source": [
    "In this case, the difference in our model is that we also have priors. Since we're only estimating $\\mu$, we only need to add that prior. Let's assume it is:\n",
    "\n",
    "$\\mu \\sim \\mathcal{N}(\\alpha, \\gamma)$\n",
    "\n",
    "You can assume that the values of $\\alpha$ and $\\gamma$ are known (e.g., $\\alpha=0$ and $\\gamma=50$, thus making this a very uninformative prior).\n",
    "\n",
    "Our log probability formula then becomes:\n",
    "\n",
    "$ln\\text{ }L(\\mu, \\sigma, \\alpha, \\gamma)=-\\frac{n}{2}ln(2\\pi)-\\frac{n}{2}ln(\\sigma^2)-\\frac{1}{2\\sigma^2}\\sum_i^N (x_i-\\mu)^2-\\frac{ln(2\\pi)}{2}-\\frac{ln(\\gamma^2)}{2}-\\frac{(\\alpha-\\mu)^2}{2\\gamma^2}$"
   ]
  },
  {
   "attachments": {},
   "cell_type": "markdown",
   "metadata": {
    "id": "Qo0yRBBnrYk7"
   },
   "source": [
    "Essentially, we only added the last three terms to the earlier formula. Can you estimate now the value for $\\mu$ (you can reuse the function given above if you want)?\n",
    "\n",
    "Tip: to see more the effect of the prior more clearly, we will consider just a subset of the data. You should play around with the subset size to see it affects the results."
   ]
  },
  {
   "cell_type": "code",
   "execution_count": 35,
   "metadata": {
    "id": "n3ojJOC2rYk8"
   },
   "outputs": [],
   "source": [
    "def Gaussian_prior_loglikelihood(X, mu, sigma, sigma2):\n",
    "    n=len(X)\n",
    "    return -n/2*log(2*np.pi)-n/2*log(sigma**2)-1/(2*sigma**2)*sum([(x-mu)**2 for x in X]) - log(2*np.pi)/2 - log(2*sigma2**2)/2 - mu**2/(2*sigma2**2)\n",
    "\n",
    "def MLE2(X, sigma):\n",
    "    l=[]\n",
    "    maxll=-9999999\n",
    "    bestmu=-9999999\n",
    "    mus=np.arange(-100, 100, 0.01)\n",
    "    for mu in mus:\n",
    "        ll=Gaussian_prior_loglikelihood(X, mu, sigma, sigma2=2)\n",
    "        l.append(ll)\n",
    "        if ll>maxll:\n",
    "            bestmu=mu\n",
    "            maxll=ll\n",
    "    return bestmu, mus, l"
   ]
  },
  {
   "cell_type": "code",
   "execution_count": 36,
   "metadata": {
    "id": "PhevNhlQrYk9"
   },
   "outputs": [],
   "source": [
    "bestmu, mus, l = MLE2(X, sigma=5)"
   ]
  },
  {
   "cell_type": "markdown",
   "metadata": {
    "id": "WfRXVFKQrYk-"
   },
   "source": [
    "Can you visualize the log probability, as a function $\\mu$?"
   ]
  },
  {
   "cell_type": "code",
   "execution_count": 37,
   "metadata": {
    "id": "ZXfE_8hhrYk_"
   },
   "outputs": [
    {
     "name": "stdout",
     "output_type": "stream",
     "text": [
      "19.0400000000609\n"
     ]
    },
    {
     "data": {
      "image/png": "[encoded data removed]",
      "text/plain": [
       "<Figure size 640x480 with 1 Axes>"
      ]
     },
     "metadata": {},
     "output_type": "display_data"
    }
   ],
   "source": [
    "print(bestmu)\n",
    "plt.plot(mus, l)\n",
    "plt.show()"
   ]
  },
  {
   "cell_type": "markdown",
   "metadata": {
    "id": "2lkHXNByrYk_"
   },
   "source": [
    "Hmmm... the value is not that different, indeed. Why didn't the Bayesian model work better? To answer this, try varying the number of datapoints. The lower it is, the more important your prior becomes!\n",
    "\n"
   ]
  },
  {
   "cell_type": "markdown",
   "metadata": {
    "id": "3wkP8sM0rYlA"
   },
   "source": [
    "Challenge to take home: make it an online learning process (you can even make it a movie! :-) )... "
   ]
  },
  {
   "cell_type": "markdown",
   "metadata": {
    "id": "juIIqPSUrYlB"
   },
   "source": [
    "**p.s.: the above may indicate that, after a few datapoints, there is no point in making a Bayesian model. But notice we're here in the 1-dimensional world! If you have a few more dimensions, the amount of necessary data becomes tremendously large (Google \"curse of dimensionality\")!**"
   ]
  },
  {
   "cell_type": "markdown",
   "metadata": {
    "id": "AMr2tJynrYlC"
   },
   "source": [
    "# Part 2 - Generative story"
   ]
  },
  {
   "cell_type": "markdown",
   "metadata": {
    "collapsed": true,
    "id": "ij-PR5nmrYlD"
   },
   "source": [
    "Consider the \"dwell time prediction\" story we discussed in the lecture.\n",
    "\n",
    "Implement a function that generates the data according to the slides. \n",
    "\n",
    "We write the first and last lines of your code... ;-) \n",
    "\n"
   ]
  },
  {
   "cell_type": "code",
   "execution_count": 44,
   "metadata": {
    "id": "9ZJvZkjPrYlE"
   },
   "outputs": [],
   "source": [
    "def dwell_time(X, N, sigmab, sigmae, pi):\n",
    "    dtn=[]\n",
    "    b_intercept = np.random.normal(0, sigmab)\n",
    "    b_peak = np.random.normal(0, sigmab)\n",
    "\n",
    "    for i in range(N):\n",
    "        z = np.random.binomial(1, pi)\n",
    "        k = np.random.normal(b_intercept + b_peak * X[i], sigmae)\n",
    "        if z == 0:\n",
    "            dt = 0\n",
    "        else:\n",
    "            dt = k\n",
    "        dtn.append(dt)\n",
    "\n",
    "    return dtn"
   ]
  },
  {
   "cell_type": "markdown",
   "metadata": {
    "id": "JcUBg5StrYlF"
   },
   "source": [
    "Let's create the X dataset then"
   ]
  },
  {
   "cell_type": "code",
   "execution_count": 39,
   "metadata": {
    "id": "XYgihaM-rYlG"
   },
   "outputs": [],
   "source": [
    "N=1000\n",
    "x=np.random.binomial(1, .4, size=N) #there's less occurences of peak hour buses (just because it's less time in the day)"
   ]
  },
  {
   "cell_type": "markdown",
   "metadata": {
    "id": "WNUN8sz_rYlH"
   },
   "source": [
    "Run your function to generate N points (i.e. perform _ancestral sampling_). Choose whatever parameters you like"
   ]
  },
  {
   "cell_type": "code",
   "execution_count": 45,
   "metadata": {
    "id": "__xoMSm8rYlI"
   },
   "outputs": [],
   "source": [
    "dtn=dwell_time(x, N, 5, 1, 0.8)"
   ]
  },
  {
   "cell_type": "markdown",
   "metadata": {
    "id": "rWdKVZBSrYlJ"
   },
   "source": [
    "Enjoy the plots..."
   ]
  },
  {
   "cell_type": "code",
   "execution_count": 46,
   "metadata": {
    "id": "3wphiXArrYlK",
    "outputId": "7993ba44-4cff-4b84-ecf8-146905f3c558"
   },
   "outputs": [
    {
     "data": {
      "image/png": "[encoded data removed]",
      "text/plain": [
       "<Figure size 640x480 with 1 Axes>"
      ]
     },
     "metadata": {},
     "output_type": "display_data"
    }
   ],
   "source": [
    "plt.hist(dtn,  bins=40);"
   ]
  },
  {
   "cell_type": "markdown",
   "metadata": {
    "id": "yB96iabQrYlM"
   },
   "source": [
    "# Part 3 - Gaussian mixture"
   ]
  },
  {
   "cell_type": "markdown",
   "metadata": {
    "id": "nnCBR8RBrYlN"
   },
   "source": [
    "Let's play with mixture models? :-)\n",
    "\n",
    "We will start with some data generation again"
   ]
  },
  {
   "cell_type": "code",
   "execution_count": 109,
   "metadata": {
    "id": "KC0dgy0irYlO"
   },
   "outputs": [],
   "source": [
    "mu1_true=-3\n",
    "mu2_true=13\n",
    "sigma1_true=5\n",
    "sigma2_true=5\n",
    "\n",
    "x1=np.random.normal(mu1_true,sigma1_true,30)  #We start with a small number of points\n",
    "x2=np.random.normal(mu2_true,sigma2_true,20) # you'll understand later why... ;-)\n",
    "\n"
   ]
  },
  {
   "cell_type": "markdown",
   "metadata": {
    "id": "FJY7AuAYrYlP"
   },
   "source": [
    "We can also visualize it"
   ]
  },
  {
   "cell_type": "code",
   "execution_count": 110,
   "metadata": {
    "id": "llQF3ravrYlQ",
    "outputId": "fae6606f-3960-4082-fe01-bb8037cec44a"
   },
   "outputs": [
    {
     "data": {
      "image/png": "[encoded data removed]",
      "text/plain": [
       "<Figure size 640x480 with 1 Axes>"
      ]
     },
     "metadata": {},
     "output_type": "display_data"
    }
   ],
   "source": [
    "from scipy.stats import norm, dirichlet\n",
    "\n",
    "plt.hist(x1, bins=50, density=True)\n",
    "plt.hist(x2, bins=50, density=True)\n",
    "x=np.arange(-40,30, 0.01)\n",
    "y1=norm.pdf(x, mu1_true, sigma1_true)\n",
    "y2=norm.pdf(x, mu2_true, sigma2_true)\n",
    "plt.plot(x, y1)\n",
    "plt.plot(x, y2);"
   ]
  },
  {
   "cell_type": "markdown",
   "metadata": {
    "id": "GZsOFFYGrYlS"
   },
   "source": [
    "we need to put everything in the same dataset... tough reality calling!"
   ]
  },
  {
   "cell_type": "code",
   "execution_count": 111,
   "metadata": {
    "id": "S7OgpAWQrYlS",
    "outputId": "33505541-e48c-422f-e10a-490bce9f4220"
   },
   "outputs": [
    {
     "data": {
      "image/png": "[encoded data removed]",
      "text/plain": [
       "<Figure size 640x480 with 1 Axes>"
      ]
     },
     "metadata": {},
     "output_type": "display_data"
    }
   ],
   "source": [
    "x=np.append(x1, x2)\n",
    "\n",
    "plt.hist(x, bins=50, density=True);"
   ]
  },
  {
   "cell_type": "markdown",
   "metadata": {
    "id": "ZvvtZs4wrYlU"
   },
   "source": [
    "Looks ugly!..."
   ]
  },
  {
   "cell_type": "markdown",
   "metadata": {
    "id": "BXohjIkerYlV"
   },
   "source": [
    "It's time for you to implement the model and infer the parameters... \n",
    "\n",
    "Let's simplify a bit from the slides. Let's assume we actually know the true variances of the two gaussians (as defined above), so we don't need to consider $\\boldsymbol{\\Psi}$ and $\\nu$. In that case, our log probability looks like:\n",
    "\n",
    "$ln(p(\\pi, \\mu|\\sigma, \\sigma_{\\mu}, \\alpha))=\\sum_1^n \\big[ln(\\mathcal{N}(x_n|\\mu_1, \\sigma_1) \\pi + \\mathcal{N}(x_n|\\mu_2, \\sigma_2) (1-\\pi))\\big]+ln(Dir(\\pi|\\alpha))+ln(\\mathcal{N}(\\mu_1|0, \\sigma_{\\mu}))+ln(\\mathcal{N}(\\mu_2|0, \\sigma_{\\mu}))$\n",
    "\n",
    "Can you implement this function and estimate the right parameters for $\\mu_1$, $\\mu_2$ and $\\pi$? You can assume that the values of $\\sigma_1$, $\\sigma_2$, $\\sigma_{\\mu}$ and $\\alpha$ are given. For example: $\\sigma_1=5$, $\\sigma_2=5$, $\\sigma_{\\mu}=50$ and $\\alpha=[1,1]$. You can use scipy.stats for the Dirichlet distribution: https://docs.scipy.org/doc/scipy/reference/generated/scipy.stats.dirichlet.html.\n",
    "\n",
    "For now, just worry about finding the **maximum** value of the distribution (also called the \"posterior distribution\"), as opposed to the full distribution for each parameter. This is called the \"Maximum A Posteriori\" estimate, or MAP. \n",
    "\n",
    "(how would you get the posterior distribution of each parameter?)"
   ]
  },
  {
   "cell_type": "code",
   "execution_count": 112,
   "metadata": {
    "id": "gnyptFOzrYlX"
   },
   "outputs": [
    {
     "name": "stdout",
     "output_type": "stream",
     "text": [
      "0.2\n"
     ]
    },
    {
     "name": "stderr",
     "output_type": "stream",
     "text": [
      "C:\\Users\\jakob\\AppData\\Local\\Temp\\ipykernel_5020\\2932733457.py:2: RuntimeWarning: divide by zero encountered in log\n",
      "  return np.log(norm.pdf(u2, 0, sigma_mu)) + np.log(norm.pdf(u1, 0, sigma_mu)) + sum([np.log(norm.pdf(x, u1, sigma1) * pi + norm.pdf(x, u2, sigma2) * (1 - pi)) for x in X]) + np.log(dirichlet.pdf([pi, 1 - pi], alpha))\n"
     ]
    },
    {
     "ename": "KeyboardInterrupt",
     "evalue": "",
     "output_type": "error",
     "traceback": [
      "\u001b[1;31m---------------------------------------------------------------------------\u001b[0m",
      "\u001b[1;31mKeyboardInterrupt\u001b[0m                         Traceback (most recent call last)",
      "Cell \u001b[1;32mIn[112], line 23\u001b[0m\n\u001b[0;32m     20\u001b[0m                     maxlP\u001b[39m=\u001b[39mll\n\u001b[0;32m     21\u001b[0m     \u001b[39mreturn\u001b[39;00m param\n\u001b[1;32m---> 23\u001b[0m \u001b[39mprint\u001b[39m(MAP(X, \u001b[39m5\u001b[39;49m, \u001b[39m5\u001b[39;49m, \u001b[39m50\u001b[39;49m, [\u001b[39m1\u001b[39;49m,\u001b[39m1\u001b[39;49m]))\n",
      "Cell \u001b[1;32mIn[112], line 17\u001b[0m, in \u001b[0;36mMAP\u001b[1;34m(X, s1, s2, sigma_mu, alpha)\u001b[0m\n\u001b[0;32m     15\u001b[0m \u001b[39mfor\u001b[39;00m u1 \u001b[39min\u001b[39;00m mu1:\n\u001b[0;32m     16\u001b[0m     \u001b[39mfor\u001b[39;00m u2 \u001b[39min\u001b[39;00m mu2:\n\u001b[1;32m---> 17\u001b[0m         ll \u001b[39m=\u001b[39m Posterior_estimate(X, u1, u2, p, s1, s2, sigma_mu, alpha)\n\u001b[0;32m     18\u001b[0m         \u001b[39mif\u001b[39;00m ll \u001b[39m>\u001b[39m maxlP:\n\u001b[0;32m     19\u001b[0m             param \u001b[39m=\u001b[39m [p, s1, s2]\n",
      "Cell \u001b[1;32mIn[112], line 2\u001b[0m, in \u001b[0;36mPosterior_estimate\u001b[1;34m(X, u1, u2, pi, sigma1, sigma2, sigma_mu, alpha)\u001b[0m\n\u001b[0;32m      1\u001b[0m \u001b[39mdef\u001b[39;00m \u001b[39mPosterior_estimate\u001b[39m(X, u1, u2, pi, sigma1, sigma2, sigma_mu, alpha):\n\u001b[1;32m----> 2\u001b[0m     \u001b[39mreturn\u001b[39;00m np\u001b[39m.\u001b[39mlog(norm\u001b[39m.\u001b[39mpdf(u2, \u001b[39m0\u001b[39m, sigma_mu)) \u001b[39m+\u001b[39m np\u001b[39m.\u001b[39mlog(norm\u001b[39m.\u001b[39mpdf(u1, \u001b[39m0\u001b[39m, sigma_mu)) \u001b[39m+\u001b[39m \u001b[39msum\u001b[39m([np\u001b[39m.\u001b[39mlog(norm\u001b[39m.\u001b[39mpdf(x, u1, sigma1) \u001b[39m*\u001b[39m pi \u001b[39m+\u001b[39m norm\u001b[39m.\u001b[39mpdf(x, u2, sigma2) \u001b[39m*\u001b[39m (\u001b[39m1\u001b[39m \u001b[39m-\u001b[39m pi)) \u001b[39mfor\u001b[39;00m x \u001b[39min\u001b[39;00m X]) \u001b[39m+\u001b[39m np\u001b[39m.\u001b[39mlog(dirichlet\u001b[39m.\u001b[39mpdf([pi, \u001b[39m1\u001b[39m \u001b[39m-\u001b[39m pi], alpha))\n",
      "Cell \u001b[1;32mIn[112], line 2\u001b[0m, in \u001b[0;36m<listcomp>\u001b[1;34m(.0)\u001b[0m\n\u001b[0;32m      1\u001b[0m \u001b[39mdef\u001b[39;00m \u001b[39mPosterior_estimate\u001b[39m(X, u1, u2, pi, sigma1, sigma2, sigma_mu, alpha):\n\u001b[1;32m----> 2\u001b[0m     \u001b[39mreturn\u001b[39;00m np\u001b[39m.\u001b[39mlog(norm\u001b[39m.\u001b[39mpdf(u2, \u001b[39m0\u001b[39m, sigma_mu)) \u001b[39m+\u001b[39m np\u001b[39m.\u001b[39mlog(norm\u001b[39m.\u001b[39mpdf(u1, \u001b[39m0\u001b[39m, sigma_mu)) \u001b[39m+\u001b[39m \u001b[39msum\u001b[39m([np\u001b[39m.\u001b[39mlog(norm\u001b[39m.\u001b[39;49mpdf(x, u1, sigma1) \u001b[39m*\u001b[39m pi \u001b[39m+\u001b[39m norm\u001b[39m.\u001b[39mpdf(x, u2, sigma2) \u001b[39m*\u001b[39m (\u001b[39m1\u001b[39m \u001b[39m-\u001b[39m pi)) \u001b[39mfor\u001b[39;00m x \u001b[39min\u001b[39;00m X]) \u001b[39m+\u001b[39m np\u001b[39m.\u001b[39mlog(dirichlet\u001b[39m.\u001b[39mpdf([pi, \u001b[39m1\u001b[39m \u001b[39m-\u001b[39m pi], alpha))\n",
      "File \u001b[1;32mc:\\Users\\jakob\\anaconda3\\envs\\my_environment\\lib\\site-packages\\scipy\\stats\\_distn_infrastructure.py:2102\u001b[0m, in \u001b[0;36mrv_continuous.pdf\u001b[1;34m(self, x, *args, **kwds)\u001b[0m\n\u001b[0;32m   2100\u001b[0m     goodargs \u001b[39m=\u001b[39m argsreduce(cond, \u001b[39m*\u001b[39m((x,)\u001b[39m+\u001b[39margs\u001b[39m+\u001b[39m(scale,)))\n\u001b[0;32m   2101\u001b[0m     scale, goodargs \u001b[39m=\u001b[39m goodargs[\u001b[39m-\u001b[39m\u001b[39m1\u001b[39m], goodargs[:\u001b[39m-\u001b[39m\u001b[39m1\u001b[39m]\n\u001b[1;32m-> 2102\u001b[0m     place(output, cond, \u001b[39mself\u001b[39;49m\u001b[39m.\u001b[39;49m_pdf(\u001b[39m*\u001b[39;49mgoodargs) \u001b[39m/\u001b[39;49m scale)\n\u001b[0;32m   2103\u001b[0m \u001b[39mif\u001b[39;00m output\u001b[39m.\u001b[39mndim \u001b[39m==\u001b[39m \u001b[39m0\u001b[39m:\n\u001b[0;32m   2104\u001b[0m     \u001b[39mreturn\u001b[39;00m output[()]\n",
      "File \u001b[1;32m<__array_function__ internals>:180\u001b[0m, in \u001b[0;36mplace\u001b[1;34m(*args, **kwargs)\u001b[0m\n",
      "File \u001b[1;32mc:\\Users\\jakob\\anaconda3\\envs\\my_environment\\lib\\site-packages\\numpy\\lib\\function_base.py:1909\u001b[0m, in \u001b[0;36m_place_dispatcher\u001b[1;34m(arr, mask, vals)\u001b[0m\n\u001b[0;32m   1859\u001b[0m \u001b[39m    \u001b[39m\u001b[39m\"\"\"\u001b[39;00m\n\u001b[0;32m   1860\u001b[0m \u001b[39m    Return the elements of an array that satisfy some condition.\u001b[39;00m\n\u001b[0;32m   1861\u001b[0m \n\u001b[1;32m   (...)\u001b[0m\n\u001b[0;32m   1904\u001b[0m \n\u001b[0;32m   1905\u001b[0m \u001b[39m    \"\"\"\u001b[39;00m\n\u001b[0;32m   1906\u001b[0m     \u001b[39mreturn\u001b[39;00m _nx\u001b[39m.\u001b[39mtake(ravel(arr), nonzero(ravel(condition))[\u001b[39m0\u001b[39m])\n\u001b[1;32m-> 1909\u001b[0m \u001b[39mdef\u001b[39;00m \u001b[39m_place_dispatcher\u001b[39m(arr, mask, vals):\n\u001b[0;32m   1910\u001b[0m     \u001b[39mreturn\u001b[39;00m (arr, mask, vals)\n\u001b[0;32m   1913\u001b[0m \u001b[39m@array_function_dispatch\u001b[39m(_place_dispatcher)\n\u001b[0;32m   1914\u001b[0m \u001b[39mdef\u001b[39;00m \u001b[39mplace\u001b[39m(arr, mask, vals):\n",
      "\u001b[1;31mKeyboardInterrupt\u001b[0m: "
     ]
    }
   ],
   "source": [
    "\n",
    "\n",
    "def Posterior_estimate(X, u1, u2, pi, sigma1, sigma2, sigma_mu, alpha):\n",
    "    return np.log(norm.pdf(u2, 0, sigma_mu)) + np.log(norm.pdf(u1, 0, sigma_mu)) + sum([np.log(norm.pdf(x, u1, sigma1) * pi + norm.pdf(x, u2, sigma2) * (1 - pi)) for x in X]) + np.log(dirichlet.pdf([pi, 1 - pi], alpha))\n",
    "\n",
    "def MAP(X, s1, s2, sigma_mu, alpha):\n",
    "    l=[]\n",
    "    \n",
    "    maxlP=-10**(100)\n",
    "    param = [-9999999, -9999999, -9999999]\n",
    "\n",
    "    pi=np.arange(0.2, 0.8, 0.1)\n",
    "    mu1=np.arange(-5, 15, 1)\n",
    "    mu2=np.arange(-5, 15, 1)\n",
    "    for p in pi:\n",
    "        print(p)\n",
    "        for u1 in mu1:\n",
    "            for u2 in mu2:\n",
    "                ll = Posterior_estimate(X, u1, u2, p, s1, s2, sigma_mu, alpha)\n",
    "                if ll > maxlP:\n",
    "                    param = [p, s1, s2]\n",
    "                    maxlP=ll\n",
    "    return param\n",
    "\n",
    "print(MAP(X, 5, 5, 50, [1,1]))"
   ]
  }
 ],
 "metadata": {
  "colab": {
   "collapsed_sections": [],
   "name": "03 - PGM fundamentals.ipynb",
   "provenance": []
  },
  "kernelspec": {
   "display_name": "my_environment",
   "language": "python",
   "name": "python3"
  },
  "language_info": {
   "codemirror_mode": {
    "name": "ipython",
    "version": 3
   },
   "file_extension": ".py",
   "mimetype": "text/x-python",
   "name": "python",
   "nbconvert_exporter": "python",
   "pygments_lexer": "ipython3",
   "version": "3.10.8"
  },
  "vscode": {
   "interpreter": {
    "hash": "5b6bcc8554fa3bc56b893a5186498df6bfb8bfb0cc776d75559b9b87b2ef431a"
   }
  }
 },
 "nbformat": 4,
 "nbformat_minor": 1
}
