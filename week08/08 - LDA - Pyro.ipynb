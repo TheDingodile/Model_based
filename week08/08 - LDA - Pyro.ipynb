{
 "cells": [
  {
   "cell_type": "markdown",
   "metadata": {
    "colab_type": "text",
    "id": "wnTueG1WtMPn"
   },
   "source": [
    "# Week 08 - Topic Modeling - Latent Dirichlet Allocation"
   ]
  },
  {
   "cell_type": "markdown",
   "metadata": {
    "colab_type": "text",
    "id": "IOgLVoQptMPq"
   },
   "source": [
    "------"
   ]
  },
  {
   "cell_type": "markdown",
   "metadata": {
    "colab_type": "text",
    "id": "bNs5OB4ctMPr"
   },
   "source": [
    "Welcome back! Today, we'll work on a very useful text analysis technique called Topic Modeling. Particularly, we will use its most popular and powerful algorithm: Latent Dirichlet Allocation, or LDA"
   ]
  },
  {
   "cell_type": "markdown",
   "metadata": {
    "colab_type": "text",
    "id": "OoXZiqOjtMPs"
   },
   "source": [
    "Before you implement your own LDA on Pyro, it is important that you understand all concepts well. In this notebook, we'll start by playing a little bit with the Dirichlet distribution. After this, we'll ask you to do some ancestral sampling on the LDA generative story.\n",
    "\n",
    "Only after that, you'll do your own LDA in Pyro. \n"
   ]
  },
  {
   "cell_type": "markdown",
   "metadata": {
    "colab_type": "text",
    "id": "WAMmfJ51tMPt"
   },
   "source": [
    "We start by the usual imports"
   ]
  },
  {
   "cell_type": "code",
   "execution_count": 1,
   "metadata": {
    "colab": {},
    "colab_type": "code",
    "id": "JOPML4S8jiow"
   },
   "outputs": [
    {
     "name": "stderr",
     "output_type": "stream",
     "text": [
      "c:\\Users\\jakob\\anaconda3\\envs\\my_environment\\lib\\site-packages\\tqdm\\auto.py:22: TqdmWarning: IProgress not found. Please update jupyter and ipywidgets. See https://ipywidgets.readthedocs.io/en/stable/user_install.html\n",
      "  from .autonotebook import tqdm as notebook_tqdm\n"
     ]
    }
   ],
   "source": [
    "import torch\n",
    "from torch import nn\n",
    "from torch.distributions import constraints\n",
    "import functools\n",
    "\n",
    "import pyro\n",
    "import pyro.distributions as dist\n",
    "from pyro.infer import SVI, JitTraceEnum_ELBO, TraceEnum_ELBO\n",
    "from pyro.contrib.autoguide import AutoDiagonalNormal, AutoMultivariateNormal, AutoGuideList, AutoDelta\n",
    "from pyro.optim import ClippedAdam"
   ]
  },
  {
   "cell_type": "code",
   "execution_count": 2,
   "metadata": {
    "colab": {},
    "colab_type": "code",
    "id": "oNHu_u01tMPu"
   },
   "outputs": [],
   "source": [
    "import pandas as pd\n",
    "import numpy as np\n",
    "import matplotlib.pyplot as plt\n",
    "%matplotlib inline"
   ]
  },
  {
   "cell_type": "markdown",
   "metadata": {
    "colab_type": "text",
    "id": "mWQc-vc3tMPy"
   },
   "source": [
    "## Part 1 - Understanding the dirichlet distribution"
   ]
  },
  {
   "cell_type": "markdown",
   "metadata": {
    "colab_type": "text",
    "id": "vOgXLE9DtMPz"
   },
   "source": [
    "The Dirichlet distribution is available as numpy.random.dirichlet(alpha, size=None)\n",
    "\n",
    "...so, try it! For example, obtain draws from this distribution using different values of alpha."
   ]
  },
  {
   "cell_type": "code",
   "execution_count": 3,
   "metadata": {
    "colab": {
     "base_uri": "https://localhost:8080/",
     "height": 68
    },
    "colab_type": "code",
    "id": "C6i56CjAtMPz",
    "outputId": "e7ef13bc-e352-44bd-dfe7-9f36346cb21b"
   },
   "outputs": [
    {
     "name": "stdout",
     "output_type": "stream",
     "text": [
      "[0.37224929 0.08158252 0.54616819]\n",
      "[2.40566088e-04 2.89025983e-03 9.96869174e-01]\n",
      "[0.3973331 0.0286635 0.5740034]\n"
     ]
    }
   ],
   "source": [
    "print(np.random.dirichlet([.2,.2, .2]))\n",
    "print(np.random.dirichlet([.1,.1, .9]))\n",
    "print(np.random.dirichlet([1,1, 1]))"
   ]
  },
  {
   "cell_type": "markdown",
   "metadata": {
    "colab_type": "text",
    "id": "7Bx-u8OZtMP3"
   },
   "source": [
    "Check that the sum is always 1, for all vectors..."
   ]
  },
  {
   "cell_type": "code",
   "execution_count": 4,
   "metadata": {
    "colab": {
     "base_uri": "https://localhost:8080/",
     "height": 34
    },
    "colab_type": "code",
    "id": "JAm0vYGmtMP4",
    "outputId": "7279acf7-4555-44e1-8ea1-6f48a62b75c2"
   },
   "outputs": [
    {
     "data": {
      "text/plain": [
       "1.0"
      ]
     },
     "execution_count": 4,
     "metadata": {},
     "output_type": "execute_result"
    }
   ],
   "source": [
    "np.sum(np.random.dirichlet([.2,.2, .2]))"
   ]
  },
  {
   "cell_type": "markdown",
   "metadata": {
    "colab_type": "text",
    "id": "3NBgYmnTtMP7"
   },
   "source": [
    "Whenever you can, try to visualize it. Remember what we did in the slides. Try to do the same thing!"
   ]
  },
  {
   "cell_type": "markdown",
   "metadata": {
    "colab_type": "text",
    "id": "y_bCddBStMP8"
   },
   "source": [
    "**feel free to use the function below, to plot points from a dirichlet distribution, onto a 2D simplex**"
   ]
  },
  {
   "cell_type": "code",
   "execution_count": 5,
   "metadata": {
    "colab": {},
    "colab_type": "code",
    "id": "OyTZBnJZtMP9"
   },
   "outputs": [],
   "source": [
    "'''Function to plot points in a simplex'''\n",
    "\n",
    "# Based on post from Thomas Boggs (http://blog.bogatron.net/blog/2014/02/02/visualizing-dirichlet-distributions/)\n",
    "\n",
    "import matplotlib.tri as tri\n",
    "\n",
    "_corners = np.array([[0, 0], [1, 0], [0.5, 0.75**0.5]])\n",
    "_triangle = tri.Triangulation(_corners[:, 0], _corners[:, 1])\n",
    "\n",
    "def plot_points(X):\n",
    "    '''Plots a set of points in the simplex.\n",
    "\n",
    "    Arguments:\n",
    "\n",
    "        `X` (ndarray): A 2xN array (if in Cartesian coords) or 3xN array\n",
    "                       (if in barycentric coords) of points to plot.\n",
    "    '''\n",
    "    \n",
    "    X = X.dot(_corners)  #This is what converts the original points onto the simplex (it projects on it, through dot product)\n",
    "    plt.plot(X[:, 0], X[:, 1], 'k.', ms=1)\n",
    "    plt.axis('equal')\n",
    "    plt.xlim(0, 1)\n",
    "    plt.ylim(0, 0.75**0.5)\n",
    "    plt.axis('off')\n",
    "    plt.triplot(_triangle, linewidth=1)"
   ]
  },
  {
   "cell_type": "markdown",
   "metadata": {
    "colab_type": "text",
    "id": "cRWdwC18tMQA"
   },
   "source": [
    "Generate 10000 points from the dirichlet distribution and plot them using the function above"
   ]
  },
  {
   "cell_type": "code",
   "execution_count": 6,
   "metadata": {
    "colab": {},
    "colab_type": "code",
    "id": "mqrhlkQ2tMQB"
   },
   "outputs": [
    {
     "data": {
      "image/png": "[encoded data removed]",
      "text/plain": [
       "<Figure size 640x480 with 1 Axes>"
      ]
     },
     "metadata": {},
     "output_type": "display_data"
    }
   ],
   "source": [
    "points = np.random.dirichlet([.09, .09, .09], size=10000)\n",
    "plot_points(points)"
   ]
  },
  {
   "cell_type": "markdown",
   "metadata": {
    "colab_type": "text",
    "id": "V1MgMP8RtMQG"
   },
   "source": [
    "Try with different values of $\\alpha$"
   ]
  },
  {
   "cell_type": "code",
   "execution_count": 7,
   "metadata": {},
   "outputs": [
    {
     "data": {
      "image/png": "[encoded data removed]",
      "text/plain": [
       "<Figure size 800x600 with 5 Axes>"
      ]
     },
     "metadata": {},
     "output_type": "display_data"
    }
   ],
   "source": [
    "plt.figure(figsize=(8, 6))\n",
    "alphas = [[0.1] * 3,\n",
    "          [1] * 3,\n",
    "          [5] * 3,\n",
    "          [50] * 3,\n",
    "          [2, 5, 15]]\n",
    "for (i, alpha) in enumerate(alphas):\n",
    "    plt.subplot(2, len(alphas), i + 1)\n",
    "    dist = np.random.dirichlet(alpha, size=5000)\n",
    "    title = r'$\\alpha$ = (%.3f, %.3f, %.3f)' % tuple(alpha)\n",
    "    plt.title(title, fontdict={'fontsize': 8})\n",
    "    plot_points(dist)"
   ]
  },
  {
   "cell_type": "markdown",
   "metadata": {
    "colab_type": "text",
    "id": "e-XevlM5tMQH"
   },
   "source": [
    "Notice that $\\alpha = [1,1,1]$ corresponds to a uniform distribution. Values of $\\alpha < 1$ lead to sparse distributions (can be used as sparsity-inducing priors!). The higher the value of $\\alpha$, the more concentrated is the distribution."
   ]
  },
  {
   "cell_type": "markdown",
   "metadata": {
    "colab_type": "text",
    "id": "V3BduTcBtMQH"
   },
   "source": [
    "----------------"
   ]
  },
  {
   "cell_type": "markdown",
   "metadata": {
    "colab_type": "text",
    "id": "R_XILq03tMQI"
   },
   "source": [
    "## Part 2: LDA Ancestral Sampling"
   ]
  },
  {
   "cell_type": "markdown",
   "metadata": {
    "colab_type": "text",
    "id": "2-2tBrxdtMQJ"
   },
   "source": [
    "We define our own dictionary of 30 words. There are 3 different topics that we embedded in the dictionary, can you see what they are?"
   ]
  },
  {
   "cell_type": "code",
   "execution_count": 8,
   "metadata": {
    "colab": {},
    "colab_type": "code",
    "id": "cCs9PhNGtMQK"
   },
   "outputs": [],
   "source": [
    "K = 3\n",
    "dictionary =[\"Copenhagen\",\n",
    "             \"Madrid\",\n",
    "             \"Sydney\",\n",
    "             \"Kabul\",\n",
    "             \"Vienna\",\n",
    "             \"Brussels\",\n",
    "             \"Beijing\",\n",
    "             \"Kathmandu\",\n",
    "             \"Singapore\",\n",
    "             \"Oslo\",\n",
    "             \"blue\",\n",
    "             \"green\",\n",
    "             \"beige\",\n",
    "             \"cyan\",\n",
    "             \"black\",\n",
    "             \"tan\",\n",
    "             \"brown\",\n",
    "             \"orange\",\n",
    "             \"white\",\n",
    "             \"red\",\n",
    "             \"data\",\n",
    "             \"model\",\n",
    "             \"inference\",\n",
    "             \"learning\",\n",
    "             \"observation\",\n",
    "             \"dimension\",\n",
    "             \"training\",\n",
    "             \"neuralnetwork\",\n",
    "             \"analytics\",\n",
    "             \"sampling\"\n",
    "             ]\n",
    "C = len(dictionary)"
   ]
  },
  {
   "cell_type": "markdown",
   "metadata": {
    "colab_type": "text",
    "id": "1AteOLf-tMQM"
   },
   "source": [
    "To make it smoother and more fun, we'll start by giving you the topics, $\\phi$ and the proportions $\\theta$ directly. I.e., you don't need to generate (yet) those from Dirichlet distribution.\n",
    "\n",
    "Lets start by defining the 3 topics. We do this by assigning a probability for each word under of the 3 topics ($\\phi$)."
   ]
  },
  {
   "cell_type": "code",
   "execution_count": 9,
   "metadata": {
    "colab": {},
    "colab_type": "code",
    "id": "2kjd8bZttMQN"
   },
   "outputs": [],
   "source": [
    "## Define word vectors (for each topic) and normalize:\n",
    "phi = np.zeros( (K, C) );\n",
    "phi[0] = [0.9, 0.9, 0.9, 0.9, 0.9, 0.9, 0.9, 0.9, 0.9, 0.9,\n",
    "          0.01, 0.01, 0.01, 0.01, 0.01, 0.01, 0.01, 0.01, 0.01, 0.01,\n",
    "          0.01, 0.01, 0.01, 0.01, 0.01, 0.01, 0.01, 0.01, 0.01, 0.01]\n",
    "phi[0] *= 1/np.sum(phi[0])\n",
    "phi[1] = [0.01, 0.01, 0.01, 0.01, 0.01, 0.01, 0.01, 0.01, 0.01, 0.01,\n",
    "          0.9, 0.9, 0.9, 0.9, 0.9, 0.9, 0.9, 0.9, 0.9, 0.9,\n",
    "          0.01, 0.01, 0.01, 0.01, 0.01, 0.01, 0.01, 0.01, 0.01, 0.01]\n",
    "phi[1] *= 1/np.sum(phi[1])\n",
    "phi[2] = [0.01, 0.01, 0.01, 0.01, 0.01, 0.01, 0.01, 0.01, 0.01, 0.01,\n",
    "          0.01, 0.01, 0.01, 0.01, 0.01, 0.01, 0.01, 0.01, 0.01, 0.01,\n",
    "          0.9, 0.9, 0.9, 0.9, 0.9, 0.9, 0.9, 0.9, 0.9, 0.9]\n",
    "phi[2] *= 1/np.sum(phi[2])"
   ]
  },
  {
   "cell_type": "markdown",
   "metadata": {
    "colab_type": "text",
    "id": "tkfjtCqotMQP"
   },
   "source": [
    "Notice that for topic 1, we assigned high probability to the words: Copenhagen, Madrid, Sydney, Kabul, Vienna, Brussels, Beijing, Kathmandu, Singapore, Oslo. \n",
    "\n",
    "Similarly, for topic 2, we assigned high probability to the words: blue, green, ...\n",
    "\n",
    "Finaly, for topic 3, we assigned high probability to the words: model, inference, ...\n",
    "\n",
    "Now that we have defined the probability of each word under each topic, we can follow the generative process to sample some documents. As previously mentioned, we will pre-define the distribution over topics for each document ($\\theta$):"
   ]
  },
  {
   "cell_type": "code",
   "execution_count": 10,
   "metadata": {
    "colab": {},
    "colab_type": "code",
    "id": "nZT2W-4NtMQQ"
   },
   "outputs": [],
   "source": [
    "I = 3 ## Number of documents.\n",
    "\n",
    "## Define topic proportion vectors (one for for each document):\n",
    "theta = np.zeros( (I, K) );\n",
    "theta[0] = [0.6, 0.2, 0.2]\n",
    "theta[1] = [1/3, 1/3, 1/3] ## This one will be an equal mix of all topics\n",
    "theta[2] = [  0,   0,  1] ## This will for example only contain topic 3."
   ]
  },
  {
   "cell_type": "markdown",
   "metadata": {
    "colab_type": "text",
    "id": "lAWNtsn7tMQS"
   },
   "source": [
    "Notice that the first document has higher probability of containing words from topic 1 than topics 2 and 3. Document 2 is uniform - all topics have equal probability. Document 3 covers exclusevely topic 3.\n",
    "\n",
    "Let us now generate the 3 documents following the generative process:"
   ]
  },
  {
   "cell_type": "markdown",
   "metadata": {
    "colab_type": "text",
    "id": "-Bp7PwHXtMQT"
   },
   "source": [
    "So, you assume now that we have $\\boldsymbol{\\theta}_i$ for all documents and $\\boldsymbol{\\phi}_k$ for all topics. Ancestral sampling is simply:\n",
    "\n",
    "\n",
    "For each document $i$, and for each word $j=1...w_i$, do:\n",
    "\\begin{align}\n",
    "z_{i, j} &\\sim Cat(\\boldsymbol{\\theta}_i) \\\\\n",
    "w_{i, j} &\\sim Cat(\\boldsymbol{\\phi}_{z_{i,j}})\n",
    "\\end{align}\n",
    "\n"
   ]
  },
  {
   "cell_type": "markdown",
   "metadata": {
    "colab_type": "text",
    "id": "GhDeBaV-tMQU"
   },
   "source": [
    "Can you try code it down yourself?"
   ]
  },
  {
   "cell_type": "code",
   "execution_count": 11,
   "metadata": {
    "colab": {},
    "colab_type": "code",
    "id": "51S3pRistMQV"
   },
   "outputs": [],
   "source": [
    "##Just to make things practical, we created this function for you\n",
    "## just read it or, try it, to see what it does...\n",
    "def categorical_sample(p):\n",
    "    return list(np.random.multinomial(1, p)).index(1)"
   ]
  },
  {
   "cell_type": "code",
   "execution_count": 12,
   "metadata": {
    "colab": {},
    "colab_type": "code",
    "id": "4GSTTn28tMQX"
   },
   "outputs": [],
   "source": [
    "## function that receives document sizes J, theta (topic proportions) and phi (topics), \n",
    "## returns z (word-topic assignments ) and w (words)\n",
    "def ancestral_sampling(J, theta, phi):\n",
    "    ## Initialise\n",
    "    z = np.zeros( (I, np.max(J)), dtype=int )  #NOTICE that z and w are vectors of integers!\n",
    "    w = np.zeros( (I, np.max(J)), dtype=int )  \n",
    "    \"\"\"\n",
    "    TODO: Write your code below\n",
    "    \"\"\"\n",
    "\n",
    "    for i in range(I):\n",
    "        for j in range(J[i]):\n",
    "            z[i][j] = categorical_sample(theta[i])\n",
    "            w[i][j] = categorical_sample(phi[z[i][j]])\n",
    "    \n",
    "    return z, w"
   ]
  },
  {
   "attachments": {},
   "cell_type": "markdown",
   "metadata": {},
   "source": [
    "Don't forget to take a look at the generated documents. Do they make sense, given the values for $\\phi$ and $\\theta$ given above?"
   ]
  },
  {
   "cell_type": "code",
   "execution_count": 13,
   "metadata": {
    "colab": {
     "base_uri": "https://localhost:8080/",
     "height": 799
    },
    "colab_type": "code",
    "id": "VtahF-iktMQZ",
    "outputId": "0e963e85-5069-4f19-b143-eb4c8003b92d"
   },
   "outputs": [
    {
     "name": "stdout",
     "output_type": "stream",
     "text": [
      "w: [[28 27  8  3  2  7 10 25 13  9  3  0]\n",
      " [12 17 20 19 22 16 25 19 19  0  0  0]\n",
      " [26 22 23 21 22 28 21 23 21 26  0  0]]\n",
      "\n",
      "\n",
      "Document:  0\n",
      "Theta:  [0.6 0.2 0.2]\n",
      "Word 0: Topic assignment: 3->   analytics  \n",
      "Word 1: Topic assignment: 3->   neuralnetwork  \n",
      "Word 2: Topic assignment: 1->   Singapore  \n",
      "Word 3: Topic assignment: 1->   Kabul  \n",
      "Word 4: Topic assignment: 1->   Sydney  \n",
      "Word 5: Topic assignment: 1->   Kathmandu  \n",
      "Word 6: Topic assignment: 2->   blue  \n",
      "Word 7: Topic assignment: 3->   dimension  \n",
      "Word 8: Topic assignment: 2->   cyan  \n",
      "Word 9: Topic assignment: 1->   Oslo  \n",
      "Word 10: Topic assignment: 1->   Kabul  \n",
      "Word 11: Topic assignment: 1->   Copenhagen  \n",
      "\n",
      "\n",
      "Document:  1\n",
      "Theta:  [0.33333333 0.33333333 0.33333333]\n",
      "Word 0: Topic assignment: 2->   beige  \n",
      "Word 1: Topic assignment: 2->   orange  \n",
      "Word 2: Topic assignment: 3->   data  \n",
      "Word 3: Topic assignment: 2->   red  \n",
      "Word 4: Topic assignment: 3->   inference  \n",
      "Word 5: Topic assignment: 2->   brown  \n",
      "Word 6: Topic assignment: 3->   dimension  \n",
      "Word 7: Topic assignment: 2->   red  \n",
      "Word 8: Topic assignment: 2->   red  \n",
      "\n",
      "\n",
      "Document:  2\n",
      "Theta:  [0. 0. 1.]\n",
      "Word 0: Topic assignment: 3->   training  \n",
      "Word 1: Topic assignment: 3->   inference  \n",
      "Word 2: Topic assignment: 3->   learning  \n",
      "Word 3: Topic assignment: 3->   model  \n",
      "Word 4: Topic assignment: 3->   inference  \n",
      "Word 5: Topic assignment: 3->   analytics  \n",
      "Word 6: Topic assignment: 3->   model  \n",
      "Word 7: Topic assignment: 3->   learning  \n",
      "Word 8: Topic assignment: 3->   model  \n",
      "Word 9: Topic assignment: 3->   training  \n"
     ]
    }
   ],
   "source": [
    "J = [12, 9, 10] ## Vector of size I denoting how many words are in each document\n",
    "z, w = ancestral_sampling(J, theta, phi)\n",
    "print(\"w:\", w)\n",
    "for i in range(I):\n",
    "    print(\"\\n\\nDocument: \", i)\n",
    "    print(\"Theta: \", theta[i])\n",
    "    for j in range(J[i]):\n",
    "        print(\"Word %d: Topic assignment: %d->   %s  \" % (j,  z[i, j]+1, dictionary[w[i, j]]))"
   ]
  },
  {
   "cell_type": "markdown",
   "metadata": {
    "colab_type": "text",
    "id": "H4vBO1wDtMQd"
   },
   "source": [
    "We bet you guessed what we want you to do next: having generated yourself the data, can you make an LDA model in Pyro that recovers the original parameters $\\phi$ and $\\theta$?\n",
    "\n",
    "A dataset with only 3 documents is too little of course. So, let's generate 100 documents intead, by using the dirichlet distribution. In other words, we will generate:\n",
    "- vectors $\\theta_1 \\dots \\theta_I$\n",
    "- a new vector $J$ that contains their size (10)\n"
   ]
  },
  {
   "attachments": {},
   "cell_type": "markdown",
   "metadata": {},
   "source": [
    "Please reuse your code and $\\phi$ to generate the dataset W."
   ]
  },
  {
   "cell_type": "code",
   "execution_count": 20,
   "metadata": {
    "colab": {},
    "colab_type": "code",
    "id": "q6cDzjJ5tMQd"
   },
   "outputs": [
    {
     "name": "stdout",
     "output_type": "stream",
     "text": [
      "[[16 12 15 21 24 15 21 18 17 25]\n",
      " [ 3 20  0  2  0  5 18  3  0  4]\n",
      " [16 12 25 15 15 26 12 14 21 22]\n",
      " [22 10 12 19 16 15  3 15 16 25]\n",
      " [13 23 21 29 25 22  4 24 24 21]\n",
      " [29  0  6 28 17 23 15  5 16  6]\n",
      " [22 27  5  6 22  4 25  5  5  3]\n",
      " [24 28  6  1 23 15 10  7  1  2]\n",
      " [12 11 17 17 11 11 24 12 20 17]\n",
      " [16 10 11 21 27 15 23 25 27 23]\n",
      " [12 16  6  5  6  5  4  1  1  1]\n",
      " [26 26 24 27 29 25 27  2 16 27]\n",
      " [29 22 16 15 25 15 24 18 12 23]\n",
      " [29 27 11 16 14 22 20 13 21 25]\n",
      " [14 26  5  9  1  9 11 15  9  8]\n",
      " [17 18  6 10 16 17  7 16 13 15]\n",
      " [ 3  7  4 25  8 11  6  0  4  5]\n",
      " [24 26 26 29 25  4  2  4 27 20]\n",
      " [13 19 16 13  6 15 12 15 19 13]\n",
      " [ 4 14  1 15 20  6 20 28  1 19]\n",
      " [ 2  1  0  9  6  3 20  4  0  9]\n",
      " [11 14 18 10 14 10 17 16  8 17]\n",
      " [ 3  8  1  2  6  2  6 20  9  1]\n",
      " [10 13 17 16 14 10 18 19 18  7]\n",
      " [ 6  3  3  1 18  3  5  1  6  9]\n",
      " [ 6  5  5 12  4  4 12 15  8  4]\n",
      " [14 18 19 17 25 17 11 14 17 19]\n",
      " [19 12 13  4 12 21 16 18  5 17]\n",
      " [13 29 11  9 10  7 18 16 29 20]\n",
      " [ 2  1  3  6  2  3  2  9  7  5]\n",
      " [13 28 20 25 23 22 28 22 22 18]\n",
      " [ 3  3 17 18 16 24  5  0  9 16]\n",
      " [ 5  4  3  2  6  6  0  4  8  6]\n",
      " [12 16 12 16 18 16 15 27 14 12]\n",
      " [18 12  1 18 13 29  2 14  9 18]\n",
      " [25 26  6  1 29  0 18 11 26 10]\n",
      " [ 7 11  3  7  6 28 12  5  8 24]\n",
      " [ 5  4  1  2  1  1  6 18  9  2]\n",
      " [ 6  7  9  5  2 28 20  4 28 26]\n",
      " [ 0  7  5  0  3  9 26 29  2  7]\n",
      " [ 9  2  8 11 19 14  0 17  3  7]\n",
      " [24 25  5 20  7 20 23 25 25  7]\n",
      " [22 25 11 23 29 17 21 22 22 28]\n",
      " [11 14 11 16 18 11 12 11 18 17]\n",
      " [26 10  7  0 25  3 11 15  3 15]\n",
      " [ 6  5  3  8 24 21  0 26 22 20]\n",
      " [11 18 18 15 16 10 10 11 13 10]\n",
      " [ 8 14 13 25  9 21 25 12 22  0]\n",
      " [ 1  2 19  5  2  0  8  1 25  4]\n",
      " [19  9 13 10  6 13 16 12 14 18]\n",
      " [ 4  3  0  3 24  6  6  1 25  8]\n",
      " [29 24 15 15 22 22 26 25 14 23]\n",
      " [22 22 20 29 27 29 22 25 21 20]\n",
      " [22 15 24 25 21  5 19 25  4 26]\n",
      " [19 13 19 10 25 20 23 19  2 18]\n",
      " [16 10 12 13 24 17 25 23 20 28]\n",
      " [ 3  0  4  6  0  5  0  8  8 13]\n",
      " [14 24 19 11 11 16 11 15 17 16]\n",
      " [10 17  5  7 20 13 13 19  5 12]\n",
      " [ 2 14 20 13 14 15  2 14 14 10]\n",
      " [ 2 19 29 16 14 13 26 11 24 16]\n",
      " [29 26 27 20  3 29  9  6 20  3]\n",
      " [17 20 15 19 15 25  2 10  6  4]\n",
      " [23 21 28 15 28 21 25 27 22 28]\n",
      " [ 0 19  7  1 15 17  2  1  2 14]\n",
      " [ 9  0  8  5  2  9  1  2  6  1]\n",
      " [ 7  8  2  3  4  8  3  3  7  6]\n",
      " [27 27 28  4 11 22 25  3 17 10]\n",
      " [14 26 11 15 12 13 18 25 19 18]\n",
      " [13 17 10 18 10 11 18 11 12 13]\n",
      " [ 5  4  1  5 27  1  4  4 19  1]\n",
      " [ 6  6  5  7  6  7  2  0  8  5]\n",
      " [17  5  9  9 21  2 14 18  4 11]\n",
      " [ 1 21 25 28 24 27 27 22 22 26]\n",
      " [18 25 17 24 23 21 26 14 12 29]\n",
      " [ 1  9  9  0  3  6  2 29 27  9]\n",
      " [19 18 15 19  6 14 12 12 22  1]\n",
      " [21  7 21 16 18 10  0  3 14 27]\n",
      " [21 23 27 25 26 29 29 22 20 20]\n",
      " [ 0 13  8  2  4  1  8  4 18 16]\n",
      " [25 25 14 14 22 13 14 21 12  8]\n",
      " [15 15 18 12 12 18 19 12 16  9]\n",
      " [20 20 16 25  4  3 25 26 22 14]\n",
      " [22 24 24  9 29 29 21 25  8 27]\n",
      " [18  1 12 16  3 29 20  7  2  7]\n",
      " [19 19 16  9 19 13 11 16 11 22]\n",
      " [25 11 13 19  0 22 18  1 17  0]\n",
      " [ 5  0 22  9  4 14 11 16 29  9]\n",
      " [24 13 19 26 12 16 29 21 22 25]\n",
      " [ 0  9  8  5  5  0  0  5  2  2]\n",
      " [17 15  3 12  2 25  8 12  2 17]\n",
      " [27 20 24 27 23  0  8 25 27 23]\n",
      " [ 2  0 15  4 13 19 25  8  0 17]\n",
      " [ 9  2  5  4  6  7  5  9  5  2]\n",
      " [24  2 20 25 26 22 21 26 20  1]\n",
      " [25 20 26 25 20 27 29 24 25 20]\n",
      " [ 3  4  9  5  0  3  9  8  7  9]\n",
      " [20 14 12 24 17  1 15 26 11 24]\n",
      " [22  2 25 27  9  3  2  4  9 21]\n",
      " [ 5  3  9  0  2  8  5  7  0  2]]\n"
     ]
    }
   ],
   "source": [
    "I=100\n",
    "theta = np.zeros((I, K));\n",
    "alpha = 0.5*np.ones(K) ## Size K dirichlet prior\n",
    "J=[10 for _ in range(I)]\n",
    "for i in range(I):\n",
    "    theta[i] = np.random.dirichlet(alpha)\n",
    "z, W = ancestral_sampling(J, theta, phi)\n",
    "\n",
    "print(W)"
   ]
  },
  {
   "cell_type": "markdown",
   "metadata": {
    "colab_type": "text",
    "id": "a8wSPNmUtMQh"
   },
   "source": [
    "## Part 3 - Implement your own LDA model in Pyro"
   ]
  },
  {
   "cell_type": "markdown",
   "metadata": {
    "colab_type": "text",
    "id": "_hXAqX-_j8_w"
   },
   "source": [
    "Let's try to implement  the model in Pyro. In order to implement the model we will need  the ```Dirichlet(alpha)``` and ```Categorical(pi)```  distributions.  We also need to marginalize the \"word_topic\" distribution as we did in the mixture model notebooks using ```infer={\"enumerate\": \"parallel\"}``` inside the distribution."
   ]
  },
  {
   "cell_type": "markdown",
   "metadata": {
    "colab_type": "text",
    "id": "skhrztWZlV-d"
   },
   "source": [
    "For a short recap, the generative process is the following:\n",
    "\n",
    "\\begin{align}\n",
    "\\phi_{k} & \\sim Dirichlet(\\alpha) \\quad \\textrm{Distribution of words in topic} \\\\\n",
    "\\theta_{i} & \\sim Dirichlet(\\beta) \\quad \\textrm{Distribution of topics in document} \\\\\n",
    "& z_{i,j} \\sim Categorical(\\theta_{i}) \\quad \\textrm{A topic assignment to word $j$ in document $i$}\\\\\n",
    "& w_{i,j}  \\sim Categorical(\\phi_{z_{i,j}}) \\quad \\textrm{A draw of word $j$ in document $i$}  \\\\\n",
    "\\end{align}"
   ]
  },
  {
   "cell_type": "markdown",
   "metadata": {
    "colab_type": "text",
    "id": "l4P8D-EZFQ9W"
   },
   "source": [
    "__NOTE! make sure to use the names we propose in the commented text inside the model. This is important for the inference part.__"
   ]
  },
  {
   "cell_type": "code",
   "execution_count": 61,
   "metadata": {},
   "outputs": [],
   "source": [
    "import pyro.distributions as dist\n",
    "# This is a fully generative model of a batch of documents.\n",
    "# data is a [num_words_per_doc, num_documents] shaped array of word ids\n",
    "# (specifically it is not a histogram). We assume in this simple example\n",
    "# that all documents have the same number of words.\n",
    "\n",
    "num_words = C\n",
    "num_topics = K\n",
    "num_docs = I\n",
    "num_words_per_doc = 10\n",
    "\n",
    "def model(data=None, batch_size=None):\n",
    "      \"\"\" Make a plate of size num_topics with name \"topics\" and define a variable \"topic_words\".\n",
    "            This represents the phi above. Use the equivalent of a uniform distribution for it  \"\"\"\n",
    "\n",
    "      with pyro.plate(\"topics\", num_topics):\n",
    "            topic_words = pyro.sample(\"topic_words\", dist.Dirichlet(0.5 * torch.ones(num_words)))\n",
    "\n",
    "      \"\"\" Make two (nested) plates in here. One over documents and one over words\n",
    "            Documents, called \"documents\":\n",
    "            The plate over the documents should hold a variable \"doc_topics\" representing the theta above.\n",
    "            Use the equivalent of a uniform distribution for it.\n",
    "            \n",
    "            Words, called \"words\":\n",
    "            The plate over words, should have a topic assignment for each word (z_{i,j} above) which should be enumerated.\n",
    "            The second variable \"doc_words\" should be the words themselves which should be drawn from the \"topic_words\" using the assigned z_{i,j} and the observed data.\n",
    "      \"\"\"\n",
    "\n",
    "      with pyro.plate(\"documents\", num_docs, batch_size) as batch_idx:\n",
    "            doc_topics = pyro.sample(\"doc_topics\", dist.Dirichlet(0.5 * torch.ones(num_topics)))\n",
    "            with pyro.plate(\"words\", num_words_per_doc):\n",
    "                  z = pyro.sample(\"z\", dist.Categorical(doc_topics), infer={\"enumerate\": \"parallel\"})\n",
    "                  doc_words = pyro.sample(\"doc_words\", dist.Categorical(topic_words[z]), obs=data[:, batch_idx])\n",
    "\n",
    "      return topic_words, doc_words"
   ]
  },
  {
   "cell_type": "code",
   "execution_count": 54,
   "metadata": {
    "colab": {},
    "colab_type": "code",
    "id": "COQllexBtMQn"
   },
   "outputs": [],
   "source": [
    "# We can generate synthetic data directly by calling the model.\n",
    "# true_topic_words, fake_data = model()\n",
    "# fake_data"
   ]
  },
  {
   "cell_type": "code",
   "execution_count": 46,
   "metadata": {
    "colab": {
     "base_uri": "https://localhost:8080/",
     "height": 34
    },
    "colab_type": "code",
    "id": "JjY_-FkktMQp",
    "outputId": "e74c1568-bf33-48dc-b569-f848487efb5c"
   },
   "outputs": [
    {
     "data": {
      "text/plain": [
       "torch.Size([10, 100])"
      ]
     },
     "execution_count": 46,
     "metadata": {},
     "output_type": "execute_result"
    }
   ],
   "source": [
    "W_torch = torch.tensor(W.T).long()\n",
    "W_torch.shape"
   ]
  },
  {
   "cell_type": "markdown",
   "metadata": {
    "colab_type": "text",
    "id": "5ngYkQeztMQr"
   },
   "source": [
    "## Manual+Autoguide version"
   ]
  },
  {
   "cell_type": "markdown",
   "metadata": {
    "colab_type": "text",
    "id": "6qdrVyuUGvvD"
   },
   "source": [
    "In Variational Inference (VI) we define a \"guide\", a function similar to a model definition where we declare, for each distribution in the model, an approximating distribution \"easy\" to optimize. In this case, the inference can't be done using the \"autoguide\" as we have done in previous notebooks. The problem is that autoguide is using a multivariate normal distribution to approximate all the distributions in the model. However, some distributions (like a dirichlet) cannot be approximated using a normal. We have to use a \"manual\" guide in here.\n",
    "\n",
    "Don't worry too much about this as we will learn the details on the variational inference lecture."
   ]
  },
  {
   "cell_type": "code",
   "execution_count": 58,
   "metadata": {
    "colab": {
     "base_uri": "https://localhost:8080/",
     "height": 697
    },
    "colab_type": "code",
    "id": "w7gOCIdstMQs",
    "outputId": "3926cda0-d475-4a60-afba-e0377f494f57",
    "scrolled": false
   },
   "outputs": [
    {
     "name": "stdout",
     "output_type": "stream",
     "text": [
      "[0] ELBO: 3819.9\n",
      "[100] ELBO: 3884.1\n",
      "[200] ELBO: 3757.7\n",
      "[300] ELBO: 3733.8\n",
      "[400] ELBO: 3729.1\n",
      "[500] ELBO: 3647.7\n",
      "[600] ELBO: 3651.8\n",
      "[700] ELBO: 3596.7\n",
      "[800] ELBO: 3559.4\n",
      "[900] ELBO: 3355.8\n",
      "[1000] ELBO: 3241.8\n",
      "[1100] ELBO: 3158.6\n",
      "[1200] ELBO: 3056.3\n",
      "[1300] ELBO: 3027.5\n",
      "[1400] ELBO: 3033.0\n",
      "[1500] ELBO: 2777.4\n",
      "[1600] ELBO: 2903.9\n",
      "[1700] ELBO: 2783.1\n",
      "[1800] ELBO: 2734.2\n",
      "[1900] ELBO: 2557.6\n",
      "[2000] ELBO: 2592.2\n",
      "[2100] ELBO: 2554.1\n",
      "[2200] ELBO: 2390.5\n",
      "[2300] ELBO: 2206.0\n",
      "[2400] ELBO: 2355.0\n",
      "[2500] ELBO: 2100.2\n",
      "[2600] ELBO: 2085.4\n",
      "[2700] ELBO: 2133.1\n",
      "[2800] ELBO: 2040.4\n",
      "[2900] ELBO: 2027.0\n",
      "[3000] ELBO: 2021.5\n",
      "[3100] ELBO: 1961.4\n",
      "[3200] ELBO: 1669.5\n",
      "[3300] ELBO: 1627.0\n",
      "[3400] ELBO: 1687.7\n",
      "[3500] ELBO: 1433.2\n",
      "[3600] ELBO: 1481.0\n",
      "[3700] ELBO: 1550.8\n",
      "[3800] ELBO: 1394.7\n",
      "[3900] ELBO: 1211.8\n"
     ]
    }
   ],
   "source": [
    "pyro.clear_param_store()\n",
    "\n",
    "def my_local_guide(data=None, batch_size=None):\n",
    "    topic_words_posterior = pyro.param(\n",
    "            \"topic_words_posterior\",\n",
    "            lambda: torch.ones(num_topics, num_words),\n",
    "            constraint=constraints.positive)\n",
    "    with pyro.plate(\"topics\", num_topics):\n",
    "        pyro.sample(\"topic_words\", dist.Dirichlet(topic_words_posterior))\n",
    "    \n",
    "    doc_topics_posterior = pyro.param(\n",
    "            \"doc_topics_posterior\",\n",
    "            lambda: torch.ones(num_docs, num_topics),\n",
    "            constraint=constraints.simplex)\n",
    "    with pyro.plate(\"documents\", num_docs, batch_size) as ind:\n",
    "        pyro.sample(\"doc_topics\", dist.Delta(doc_topics_posterior[ind], event_dim=1))\n",
    "    \n",
    "guide = AutoGuideList(model)\n",
    "guide.add(AutoDiagonalNormal(pyro.poutine.block(model, expose=['doc_topics'])))\n",
    "guide.add(my_local_guide)  # automatically wrapped in an AutoCallable\n",
    "\n",
    "guide = my_local_guide\n",
    "\n",
    "elbo = TraceEnum_ELBO(max_plate_nesting=3)\n",
    "\n",
    "optim = ClippedAdam({'lr': 0.005})\n",
    "svi = SVI(model, guide, optim, elbo)\n",
    "\n",
    "# Define the number of optimization steps\n",
    "n_steps = 4000\n",
    "\n",
    "# do gradient steps\n",
    "for step in range(n_steps):\n",
    "    elbo = svi.step(W_torch, batch_size=32)\n",
    "    if step % 100 == 0:\n",
    "        #print('.', end='')\n",
    "        print(\"[%d] ELBO: %.1f\" % (step, elbo))"
   ]
  },
  {
   "cell_type": "markdown",
   "metadata": {
    "colab_type": "text",
    "id": "TOJ_nWwBIFbq"
   },
   "source": [
    "Compare estimated $\\hat{\\phi}$ with true values of $\\phi$ used to generate the data:"
   ]
  },
  {
   "cell_type": "code",
   "execution_count": 62,
   "metadata": {
    "colab": {
     "base_uri": "https://localhost:8080/",
     "height": 34
    },
    "colab_type": "code",
    "id": "Oej01OZ8tMRC",
    "outputId": "75b6af07-f90d-4741-902b-5a1a2a992b5c"
   },
   "outputs": [
    {
     "data": {
      "text/plain": [
       "torch.Size([800, 1, 3, 30])"
      ]
     },
     "execution_count": 62,
     "metadata": {},
     "output_type": "execute_result"
    }
   ],
   "source": [
    "from pyro.infer import Predictive\n",
    "\n",
    "predictive = Predictive(model, guide=guide, num_samples=800,\n",
    "                        return_sites=(\"topic_words\",))\n",
    "samples = predictive(W_torch)\n",
    "samples[\"topic_words\"].shape"
   ]
  },
  {
   "cell_type": "code",
   "execution_count": 63,
   "metadata": {
    "colab": {
     "base_uri": "https://localhost:8080/",
     "height": 51
    },
    "colab_type": "code",
    "id": "uI1rTzq4tMRF",
    "outputId": "5d91df76-a9f1-404a-eabe-e83dd34bbf0d"
   },
   "outputs": [
    {
     "data": {
      "text/plain": [
       "tensor([0, 0, 0, 0, 0, 0, 0, 0, 0, 0, 1, 1, 1, 1, 1, 1, 1, 1, 1, 1, 2, 2, 2, 2,\n",
       "        2, 2, 2, 2, 2, 2])"
      ]
     },
     "execution_count": 63,
     "metadata": {},
     "output_type": "execute_result"
    }
   ],
   "source": [
    "# Compute the argmax of the mean of all samples of topic for each word\n",
    "#   this is the most likely topic for each word in our dictionary\n",
    "samples[\"topic_words\"].mean(axis=0)[0].argmax(axis=0)"
   ]
  },
  {
   "cell_type": "code",
   "execution_count": 64,
   "metadata": {
    "colab": {
     "base_uri": "https://localhost:8080/",
     "height": 51
    },
    "colab_type": "code",
    "id": "-4B2FZCMtMRH",
    "outputId": "94a9fee8-fbbc-4490-ed11-6a0a6662d2c6"
   },
   "outputs": [
    {
     "data": {
      "text/plain": [
       "array([0, 0, 0, 0, 0, 0, 0, 0, 0, 0, 1, 1, 1, 1, 1, 1, 1, 1, 1, 1, 2, 2,\n",
       "       2, 2, 2, 2, 2, 2, 2, 2], dtype=int64)"
      ]
     },
     "execution_count": 64,
     "metadata": {},
     "output_type": "execute_result"
    }
   ],
   "source": [
    "# Now compute the same for the real values\n",
    "np.argmax(phi, axis=0)"
   ]
  },
  {
   "cell_type": "markdown",
   "metadata": {
    "colab_type": "text",
    "id": "NEuXtZMftMSU"
   },
   "source": [
    "Notice anything interesting? Do the results match exactly? Remember that if we call \"topic 1\" -> \"topic 2\", and we call \"topic 2\" -> \"topic 1\", the resulting model is still the same! We just \"renamed\" the topics. This is another case of the problem of model identifiability...\n",
    "\n"
   ]
  },
  {
   "cell_type": "markdown",
   "metadata": {
    "colab_type": "text",
    "id": "yNXjjNSKIkIG"
   },
   "source": [
    "Now let's compare the estimated $\\hat{\\theta}_{i}$ with true values of $\\theta_{i}$ used to generate the data:"
   ]
  },
  {
   "cell_type": "code",
   "execution_count": 65,
   "metadata": {
    "colab": {},
    "colab_type": "code",
    "id": "ABv1cUDFtMQv"
   },
   "outputs": [],
   "source": [
    "from pyro.infer import Predictive\n",
    "\n",
    "predictive = Predictive(model, guide=guide, num_samples=800,\n",
    "                        return_sites=(\"doc_topics\",))\n",
    "predictive = Predictive(model, guide=guide, num_samples=800)\n",
    "samples = predictive(W_torch)"
   ]
  },
  {
   "cell_type": "code",
   "execution_count": 66,
   "metadata": {
    "colab": {
     "base_uri": "https://localhost:8080/",
     "height": 34
    },
    "colab_type": "code",
    "id": "Yq9TLZaEAeAX",
    "outputId": "59f7d942-a7a1-49f1-ee71-d5408c8861bb"
   },
   "outputs": [
    {
     "data": {
      "text/plain": [
       "dict_keys(['topic_words', 'doc_topics', 'z', 'doc_words'])"
      ]
     },
     "execution_count": 66,
     "metadata": {},
     "output_type": "execute_result"
    }
   ],
   "source": [
    "samples.keys()"
   ]
  },
  {
   "cell_type": "code",
   "execution_count": 67,
   "metadata": {
    "colab": {
     "base_uri": "https://localhost:8080/",
     "height": 34
    },
    "colab_type": "code",
    "id": "z_vrkziltMQx",
    "outputId": "e0f0baf2-65e3-44b3-e20c-8e3447137db1"
   },
   "outputs": [
    {
     "data": {
      "text/plain": [
       "torch.Size([1, 100, 3])"
      ]
     },
     "execution_count": 67,
     "metadata": {},
     "output_type": "execute_result"
    }
   ],
   "source": [
    "doc_topics_posterior = samples[\"doc_topics\"].mean(axis=0)\n",
    "doc_topics_posterior.shape"
   ]
  },
  {
   "cell_type": "code",
   "execution_count": 68,
   "metadata": {
    "colab": {
     "base_uri": "https://localhost:8080/",
     "height": 102
    },
    "colab_type": "code",
    "id": "BUdP6q8mtMQ0",
    "outputId": "515b63b6-01cd-4433-af50-78c2e0e59b52"
   },
   "outputs": [
    {
     "data": {
      "text/plain": [
       "tensor([1, 0, 2, 1, 2, 2, 0, 0, 1, 2, 0, 2, 2, 2, 0, 1, 0, 2, 1, 2, 0, 1, 0, 1,\n",
       "        0, 0, 1, 1, 1, 0, 2, 0, 0, 1, 1, 2, 0, 0, 0, 0, 0, 2, 2, 1, 2, 0, 1, 2,\n",
       "        0, 1, 0, 2, 2, 2, 1, 2, 0, 1, 1, 1, 1, 2, 1, 2, 0, 0, 0, 2, 1, 1, 0, 0,\n",
       "        1, 2, 2, 0, 1, 1, 2, 0, 2, 1, 2, 2, 0, 1, 1, 0, 2, 0, 1, 2, 0, 0, 2, 2,\n",
       "        0, 2, 0, 0])"
      ]
     },
     "execution_count": 68,
     "metadata": {},
     "output_type": "execute_result"
    }
   ],
   "source": [
    "# Compute the argmax of the mean of all samples of topic for each document\n",
    "#   this is the most likely topic for each document in our data\n",
    "torch.argmax(doc_topics_posterior, axis=2)[0]"
   ]
  },
  {
   "cell_type": "code",
   "execution_count": 69,
   "metadata": {
    "colab": {
     "base_uri": "https://localhost:8080/",
     "height": 102
    },
    "colab_type": "code",
    "id": "36WIRN-NtMQ3",
    "outputId": "5271b4ff-7a83-4610-b860-f13dcf457afe"
   },
   "outputs": [
    {
     "data": {
      "text/plain": [
       "array([2, 0, 2, 1, 2, 0, 0, 0, 1, 2, 0, 2, 1, 2, 0, 1, 1, 2, 1, 0, 0, 1,\n",
       "       0, 1, 0, 1, 1, 1, 2, 0, 1, 1, 0, 1, 1, 1, 0, 0, 0, 0, 1, 2, 2, 1,\n",
       "       1, 0, 1, 1, 0, 1, 0, 2, 2, 2, 1, 1, 0, 1, 1, 1, 2, 2, 1, 2, 1, 0,\n",
       "       0, 2, 1, 1, 0, 0, 0, 2, 2, 0, 1, 2, 2, 0, 2, 1, 2, 2, 0, 1, 1, 0,\n",
       "       2, 0, 1, 2, 0, 0, 2, 2, 0, 1, 0, 0], dtype=int64)"
      ]
     },
     "execution_count": 69,
     "metadata": {},
     "output_type": "execute_result"
    }
   ],
   "source": [
    "# Compute the same quantity for the real values\n",
    "np.argmax(theta, axis=1)"
   ]
  }
 ],
 "metadata": {
  "colab": {
   "collapsed_sections": [
    "mWQc-vc3tMPy"
   ],
   "name": "08 - LDA - Pyro - solutions.ipynb",
   "provenance": []
  },
  "kernelspec": {
   "display_name": "Python 3",
   "language": "python",
   "name": "python3"
  },
  "language_info": {
   "codemirror_mode": {
    "name": "ipython",
    "version": 3
   },
   "file_extension": ".py",
   "mimetype": "text/x-python",
   "name": "python",
   "nbconvert_exporter": "python",
   "pygments_lexer": "ipython3",
   "version": "3.10.8"
  }
 },
 "nbformat": 4,
 "nbformat_minor": 1
}
